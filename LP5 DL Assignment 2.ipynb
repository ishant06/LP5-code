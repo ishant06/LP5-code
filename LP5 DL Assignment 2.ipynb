{
 "cells": [
  {
   "cell_type": "code",
   "execution_count": 1,
   "metadata": {
    "id": "gaPOazn14uRX"
   },
   "outputs": [],
   "source": [
    "# ishant kadam\n",
    "# COBA029\n",
    "# Importing Necesarry Packages\n",
    "import numpy as np\n",
    "from numpy.ma.core import argmax\n",
    "import pandas as pd\n",
    "from matplotlib import cm\n",
    "import matplotlib.pyplot as plt\n",
    "%matplotlib inline\n",
    "import seaborn as sns\n",
    "#import os\n",
    "import time\n",
    "from sklearn.metrics import confusion_matrix, accuracy_score, auc\n",
    "from keras.preprocessing import sequence\n",
    "from keras.models import Sequential\n",
    "from keras.layers import Dense, Dropout, Activation\n",
    "from keras.layers import Embedding\n",
    "from keras.layers import Conv1D, GlobalMaxPooling1D\n",
    "from keras.callbacks import EarlyStopping\n",
    "from keras import models\n",
    "from keras import layers\n",
    "from keras.datasets import imdb"
   ]
  },
  {
   "cell_type": "code",
   "execution_count": 2,
   "metadata": {
    "colab": {
     "base_uri": "https://localhost:8080/"
    },
    "id": "-21qaAob4_4P",
    "outputId": "23dc3ff1-616e-4d03-8af4-6668e2f4c311"
   },
   "outputs": [
    {
     "name": "stdout",
     "output_type": "stream",
     "text": [
      "Training data: \n",
      "(50000,)\n",
      "(50000,)\n",
      "Classes: \n",
      "[0 1]\n",
      "Number of words: \n",
      "88585\n",
      "Review length: \n",
      "Mean 234.76 words (172.911495)\n"
     ]
    },
    {
     "data": {
      "image/png": "[encoded data removed]",
      "text/plain": [
       "<Figure size 432x288 with 1 Axes>"
      ]
     },
     "metadata": {
      "needs_background": "light"
     },
     "output_type": "display_data"
    }
   ],
   "source": [
    "# Loading the dataset\n",
    "(X_train, y_train), (X_test, y_test) = imdb.load_data()\n",
    "X = np.concatenate((X_train, X_test), axis=0)\n",
    "y = np.concatenate((y_train, y_test), axis=0)\n",
    "\n",
    "# Exploring the Data\n",
    "print(\"Training data: \")\n",
    "print(X.shape)\n",
    "print(y.shape)\n",
    "print(\"Classes: \")\n",
    "print(np.unique(y))\n",
    "print(\"Number of words: \")\n",
    "print(len(np.unique(np.hstack(X))))\n",
    "print(\"Review length: \")\n",
    "result = [len(x) for x in X]\n",
    "print(\"Mean %.2f words (%f)\" % (np.mean(result), np.std(result))) # Ploting the review length\n",
    "plt.boxplot(result)\n",
    "plt.show()"
   ]
  },
  {
   "cell_type": "code",
   "execution_count": 3,
   "metadata": {
    "id": "ZBisk60o5-ki"
   },
   "outputs": [],
   "source": [
    "def vectorize_sequences(sequences, dimension=5000): # Function for vectorising data\n",
    "    results = np.zeros((len(sequences), dimension)) # Creating an all-zero matrix of shape (len(sequences), dimension)\n",
    "    for i, sequence in enumerate(sequences):\n",
    "        results[i, sequence] = 1.  # Set specific indices of results[i] to 1s\n",
    "    return results"
   ]
  },
  {
   "cell_type": "code",
   "execution_count": 4,
   "metadata": {
    "id": "n97i-d436CGj"
   },
   "outputs": [],
   "source": [
    "# Creating Training and Testing Sets and Preprocessing them\n",
    "(train_data, train_labels), (test_data, test_labels) = imdb.load_data(num_words=5000)\n",
    "# Our vectorized training data\n",
    "x_train = vectorize_sequences(train_data)\n",
    "# Our vectorized test data\n",
    "x_test = vectorize_sequences(test_data)\n",
    "# Our vectorized labels one-hot encoder\n",
    "y_train = np.asarray(train_labels).astype('float32')\n",
    "y_test = np.asarray(test_labels).astype('float32')"
   ]
  },
  {
   "cell_type": "code",
   "execution_count": 5,
   "metadata": {
    "id": "en5uCK8e6LTE"
   },
   "outputs": [],
   "source": [
    "# Creating the DNN Model\n",
    "model = models.Sequential()\n",
    "model.add(layers.Dense(32, activation='relu', input_shape=(5000,)))\n",
    "model.add(layers.Dense(32, activation='relu',))\n",
    "model.add(layers.Dense(1, activation='sigmoid'))"
   ]
  },
  {
   "cell_type": "code",
   "execution_count": 6,
   "metadata": {
    "id": "qlQM0nfi6Osu"
   },
   "outputs": [],
   "source": [
    "#Set validation set aside\n",
    "x_val = x_train[:10000]\n",
    "partial_x_train = x_train[10000:]\n",
    "y_val = y_train[:10000]\n",
    "partial_y_train = y_train[10000:]"
   ]
  },
  {
   "cell_type": "code",
   "execution_count": 7,
   "metadata": {
    "id": "W2Xzaa316Sms"
   },
   "outputs": [
    {
     "name": "stdout",
     "output_type": "stream",
     "text": [
      "Epoch 1/20\n",
      "30/30 [==============================] - 1s 17ms/step - loss: 0.5036 - acc: 0.7861 - val_loss: 0.3357 - val_acc: 0.8635\n",
      "Epoch 2/20\n",
      "30/30 [==============================] - 0s 10ms/step - loss: 0.2613 - acc: 0.8995 - val_loss: 0.2886 - val_acc: 0.8827\n",
      "Epoch 3/20\n",
      "30/30 [==============================] - 0s 10ms/step - loss: 0.1950 - acc: 0.9269 - val_loss: 0.2959 - val_acc: 0.8819\n",
      "Epoch 4/20\n",
      "30/30 [==============================] - 0s 9ms/step - loss: 0.1590 - acc: 0.9444 - val_loss: 0.3221 - val_acc: 0.8783\n",
      "Epoch 5/20\n",
      "30/30 [==============================] - 0s 10ms/step - loss: 0.1334 - acc: 0.9529 - val_loss: 0.3432 - val_acc: 0.8706\n",
      "Epoch 6/20\n",
      "30/30 [==============================] - 0s 11ms/step - loss: 0.1129 - acc: 0.9618 - val_loss: 0.3750 - val_acc: 0.8713\n",
      "Epoch 7/20\n",
      "30/30 [==============================] - 0s 13ms/step - loss: 0.0940 - acc: 0.9695 - val_loss: 0.4063 - val_acc: 0.8634\n",
      "Epoch 8/20\n",
      "30/30 [==============================] - 0s 11ms/step - loss: 0.0783 - acc: 0.9755 - val_loss: 0.4408 - val_acc: 0.8621\n",
      "Epoch 9/20\n",
      "30/30 [==============================] - 0s 9ms/step - loss: 0.0639 - acc: 0.9825 - val_loss: 0.4882 - val_acc: 0.8580\n",
      "Epoch 10/20\n",
      "30/30 [==============================] - 0s 10ms/step - loss: 0.0514 - acc: 0.9865 - val_loss: 0.5213 - val_acc: 0.8592\n",
      "Epoch 11/20\n",
      "30/30 [==============================] - 0s 11ms/step - loss: 0.0382 - acc: 0.9926 - val_loss: 0.5708 - val_acc: 0.8571\n",
      "Epoch 12/20\n",
      "30/30 [==============================] - 0s 10ms/step - loss: 0.0280 - acc: 0.9961 - val_loss: 0.6160 - val_acc: 0.8566\n",
      "Epoch 13/20\n",
      "30/30 [==============================] - 0s 11ms/step - loss: 0.0201 - acc: 0.9982 - val_loss: 0.6554 - val_acc: 0.8550\n",
      "Epoch 14/20\n",
      "30/30 [==============================] - 0s 11ms/step - loss: 0.0139 - acc: 0.9994 - val_loss: 0.6966 - val_acc: 0.8551\n",
      "Epoch 15/20\n",
      "30/30 [==============================] - 0s 9ms/step - loss: 0.0098 - acc: 0.9998 - val_loss: 0.7381 - val_acc: 0.8556\n",
      "Epoch 16/20\n",
      "30/30 [==============================] - 0s 10ms/step - loss: 0.0073 - acc: 0.9999 - val_loss: 0.7733 - val_acc: 0.8524\n",
      "Epoch 17/20\n",
      "30/30 [==============================] - 0s 9ms/step - loss: 0.0055 - acc: 1.0000 - val_loss: 0.7997 - val_acc: 0.8541\n",
      "Epoch 18/20\n",
      "30/30 [==============================] - 0s 11ms/step - loss: 0.0043 - acc: 1.0000 - val_loss: 0.8264 - val_acc: 0.8533\n",
      "Epoch 19/20\n",
      "30/30 [==============================] - 0s 11ms/step - loss: 0.0034 - acc: 1.0000 - val_loss: 0.8533 - val_acc: 0.8529\n",
      "Epoch 20/20\n",
      "30/30 [==============================] - 0s 10ms/step - loss: 0.0028 - acc: 1.0000 - val_loss: 0.8787 - val_acc: 0.8532\n",
      "The Dense Convolutional Neural Network 1 layer took 7.0918 seconds to train.\n"
     ]
    }
   ],
   "source": [
    "# Compiling Model\n",
    "model.compile(optimizer='adam', loss='binary_crossentropy', metrics=['acc'])\n",
    "start_time_m1 = time.time()\n",
    "history = model.fit(partial_x_train,\n",
    "                    partial_y_train,\n",
    "                    epochs=20,\n",
    "                    batch_size=512,\n",
    "                    validation_data=(x_val, y_val))\n",
    "total_time_m1 = time.time() - start_time_m1\n",
    "print(\"The Dense Convolutional Neural Network 1 layer took %.4f seconds to train.\" % (total_time_m1))"
   ]
  },
  {
   "cell_type": "code",
   "execution_count": 8,
   "metadata": {
    "colab": {
     "base_uri": "https://localhost:8080/"
    },
    "id": "nvSOAqZy6iia",
    "outputId": "31a8d699-e432-4ae5-cad3-20ad96bc75b5"
   },
   "outputs": [
    {
     "data": {
      "text/plain": [
       "dict_keys(['loss', 'acc', 'val_loss', 'val_acc'])"
      ]
     },
     "execution_count": 8,
     "metadata": {},
     "output_type": "execute_result"
    }
   ],
   "source": [
    "history_dict = history.history\n",
    "history_dict.keys()"
   ]
  },
  {
   "cell_type": "code",
   "execution_count": 9,
   "metadata": {
    "colab": {
     "base_uri": "https://localhost:8080/",
     "height": 295
    },
    "id": "KyMAGYR36ydx",
    "outputId": "4083c530-6796-4777-808b-510ea103866f"
   },
   "outputs": [
    {
     "data": {
      "image/png": "[encoded data removed]",
      "text/plain": [
       "<Figure size 432x288 with 1 Axes>"
      ]
     },
     "metadata": {
      "needs_background": "light"
     },
     "output_type": "display_data"
    }
   ],
   "source": [
    "acc = history.history['acc']\n",
    "val_acc = history.history['val_acc']\n",
    "loss = history.history['loss']\n",
    "val_loss = history.history['val_loss']\n",
    "epochs = range(1, len(acc) + 1)\n",
    "\n",
    "# Plotting model loss\n",
    "plt.plot(epochs, loss, 'bo', label='Training loss') # \"bo\" is for \"blue dot\"\n",
    "plt.plot(epochs, val_loss, 'b', label='Validation loss') # b is for \"solid blue line\"\n",
    "plt.title('Training and validation loss')\n",
    "plt.xlabel('Epochs')\n",
    "plt.ylabel('Loss')\n",
    "plt.legend()\n",
    "plt.show()"
   ]
  },
  {
   "cell_type": "code",
   "execution_count": 10,
   "metadata": {
    "colab": {
     "base_uri": "https://localhost:8080/",
     "height": 295
    },
    "id": "Zx2P_deL64Vh",
    "outputId": "72243bb4-fc62-4544-ee04-955c610a5f0b"
   },
   "outputs": [
    {
     "data": {
      "image/png": "[encoded data removed]",
      "text/plain": [
       "<Figure size 432x288 with 1 Axes>"
      ]
     },
     "metadata": {
      "needs_background": "light"
     },
     "output_type": "display_data"
    }
   ],
   "source": [
    "plt.clf()   # clear figure\n",
    "acc_values = history_dict['acc']\n",
    "val_acc_values = history_dict['val_acc']\n",
    "\n",
    "# Plotting model accuracy\n",
    "plt.plot(epochs, acc, 'bo', label='Training acc')\n",
    "plt.plot(epochs, val_acc, 'b', label='Validation acc')\n",
    "plt.title('Training and validation accuracy')\n",
    "plt.xlabel('Epochs')\n",
    "plt.ylabel('Loss')\n",
    "plt.legend()\n",
    "plt.show()"
   ]
  },
  {
   "cell_type": "code",
   "execution_count": 11,
   "metadata": {
    "colab": {
     "base_uri": "https://localhost:8080/"
    },
    "id": "YthvVpkq68w1",
    "outputId": "d7864da5-47c0-4ddc-caed-ac6588e43e9b"
   },
   "outputs": [
    {
     "name": "stdout",
     "output_type": "stream",
     "text": [
      "Model: \"sequential\"\n",
      "_________________________________________________________________\n",
      " Layer (type)                Output Shape              Param #   \n",
      "=================================================================\n",
      " dense (Dense)               (None, 32)                160032    \n",
      "                                                                 \n",
      " dense_1 (Dense)             (None, 32)                1056      \n",
      "                                                                 \n",
      " dense_2 (Dense)             (None, 1)                 33        \n",
      "                                                                 \n",
      "=================================================================\n",
      "Total params: 161,121\n",
      "Trainable params: 161,121\n",
      "Non-trainable params: 0\n",
      "_________________________________________________________________\n",
      "None\n",
      "782/782 [==============================] - 1s 719us/step\n",
      "[[12500     0]\n",
      " [12500     0]]\n"
     ]
    },
    {
     "data": {
      "text/plain": [
       "Text(0.5, 15.0, 'Predicted label')"
      ]
     },
     "execution_count": 11,
     "metadata": {},
     "output_type": "execute_result"
    },
    {
     "data": {
      "image/png": "[encoded data removed]",
      "text/plain": [
       "<Figure size 432x288 with 2 Axes>"
      ]
     },
     "metadata": {
      "needs_background": "light"
     },
     "output_type": "display_data"
    }
   ],
   "source": [
    "# Model Summary\n",
    "print(model.summary())\n",
    "\n",
    "# Predictions\n",
    "pred = model.predict(x_test)\n",
    "classes_x=np.argmax(pred,axis=1)\n",
    "accuracy_score(y_test,classes_x)\n",
    "\n",
    "#Confusion Matrix\n",
    "conf_mat = confusion_matrix(y_test, classes_x)\n",
    "print(conf_mat)\n",
    "\n",
    "conf_mat_normalized = conf_mat.astype('float') / conf_mat.sum(axis=1)[:, np.newaxis]\n",
    "sns.heatmap(conf_mat_normalized)\n",
    "plt.ylabel('True label')\n",
    "plt.xlabel('Predicted label')"
   ]
  },
  {
   "cell_type": "code",
   "execution_count": 12,
   "metadata": {
    "id": "otDNIRym8N9H"
   },
   "outputs": [],
   "source": [
    "#Dense with Two Layer\n",
    "model2 = models.Sequential()\n",
    "model2.add(layers.Dense(32, activation='relu', input_shape=(5000,)))\n",
    "model2.add(layers.Dense(32, activation='relu'))\n",
    "model2.add(layers.Dense(32, activation='relu'))\n",
    "model2.add(layers.Dense(1, activation='sigmoid'))"
   ]
  },
  {
   "cell_type": "code",
   "execution_count": 13,
   "metadata": {
    "id": "f7h9ksNZ8UaH"
   },
   "outputs": [
    {
     "name": "stdout",
     "output_type": "stream",
     "text": [
      "Epoch 1/20\n",
      "30/30 [==============================] - 1s 16ms/step - loss: 0.5355 - acc: 0.7648 - val_loss: 0.3525 - val_acc: 0.8600\n",
      "Epoch 2/20\n",
      "30/30 [==============================] - 0s 10ms/step - loss: 0.2636 - acc: 0.8984 - val_loss: 0.2868 - val_acc: 0.8848\n",
      "Epoch 3/20\n",
      "30/30 [==============================] - 0s 10ms/step - loss: 0.1842 - acc: 0.9326 - val_loss: 0.3044 - val_acc: 0.8806\n",
      "Epoch 4/20\n",
      "30/30 [==============================] - 0s 9ms/step - loss: 0.1501 - acc: 0.9458 - val_loss: 0.3346 - val_acc: 0.8769\n",
      "Epoch 5/20\n",
      "30/30 [==============================] - 0s 10ms/step - loss: 0.1202 - acc: 0.9585 - val_loss: 0.3826 - val_acc: 0.8711\n",
      "Epoch 6/20\n",
      "30/30 [==============================] - 0s 10ms/step - loss: 0.1010 - acc: 0.9651 - val_loss: 0.4376 - val_acc: 0.8631\n",
      "Epoch 7/20\n",
      "30/30 [==============================] - 0s 10ms/step - loss: 0.0781 - acc: 0.9745 - val_loss: 0.4757 - val_acc: 0.8606\n",
      "Epoch 8/20\n",
      "30/30 [==============================] - 0s 10ms/step - loss: 0.0580 - acc: 0.9833 - val_loss: 0.5292 - val_acc: 0.8600\n",
      "Epoch 9/20\n",
      "30/30 [==============================] - 0s 10ms/step - loss: 0.0390 - acc: 0.9906 - val_loss: 0.5830 - val_acc: 0.8586\n",
      "Epoch 10/20\n",
      "30/30 [==============================] - 0s 10ms/step - loss: 0.0256 - acc: 0.9952 - val_loss: 0.6470 - val_acc: 0.8575\n",
      "Epoch 11/20\n",
      "30/30 [==============================] - 0s 10ms/step - loss: 0.0144 - acc: 0.9988 - val_loss: 0.7097 - val_acc: 0.8546\n",
      "Epoch 12/20\n",
      "30/30 [==============================] - 0s 11ms/step - loss: 0.0082 - acc: 0.9995 - val_loss: 0.7655 - val_acc: 0.8546\n",
      "Epoch 13/20\n",
      "30/30 [==============================] - 0s 11ms/step - loss: 0.0051 - acc: 0.9998 - val_loss: 0.8176 - val_acc: 0.8549\n",
      "Epoch 14/20\n",
      "30/30 [==============================] - 0s 10ms/step - loss: 0.0032 - acc: 0.9999 - val_loss: 0.8586 - val_acc: 0.8545\n",
      "Epoch 15/20\n",
      "30/30 [==============================] - 0s 10ms/step - loss: 0.0022 - acc: 0.9999 - val_loss: 0.8950 - val_acc: 0.8546\n",
      "Epoch 16/20\n",
      "30/30 [==============================] - 0s 12ms/step - loss: 0.0017 - acc: 1.0000 - val_loss: 0.9244 - val_acc: 0.8540\n",
      "Epoch 17/20\n",
      "30/30 [==============================] - 0s 10ms/step - loss: 0.0013 - acc: 1.0000 - val_loss: 0.9501 - val_acc: 0.8540\n",
      "Epoch 18/20\n",
      "30/30 [==============================] - 0s 9ms/step - loss: 0.0010 - acc: 1.0000 - val_loss: 0.9770 - val_acc: 0.8537\n",
      "Epoch 19/20\n",
      "30/30 [==============================] - 0s 10ms/step - loss: 8.6381e-04 - acc: 1.0000 - val_loss: 0.9989 - val_acc: 0.8536\n",
      "Epoch 20/20\n",
      "30/30 [==============================] - 0s 9ms/step - loss: 7.2862e-04 - acc: 1.0000 - val_loss: 1.0173 - val_acc: 0.8535\n",
      "The Dense Convolutional Neural Network 2 layers took 7.0129 seconds to train.\n"
     ]
    }
   ],
   "source": [
    "# Compiling Model\n",
    "model2.compile(optimizer='adam', loss='binary_crossentropy', metrics=['acc'])\n",
    "start_time_m2 = time.time()\n",
    "history= model2.fit(partial_x_train,\n",
    "                    partial_y_train,\n",
    "                    epochs=20,\n",
    "                    batch_size=512,\n",
    "                    validation_data=(x_val, y_val))\n",
    "total_time_m2 = time.time() - start_time_m2\n",
    "print(\"The Dense Convolutional Neural Network 2 layers took %.4f seconds to train.\" % (total_time_m2))"
   ]
  },
  {
   "cell_type": "code",
   "execution_count": 14,
   "metadata": {
    "colab": {
     "base_uri": "https://localhost:8080/",
     "height": 295
    },
    "id": "zdFhalKh8b7D",
    "outputId": "99533c41-711e-472e-f6e4-10f02fa0913e"
   },
   "outputs": [
    {
     "data": {
      "image/png": "[encoded data removed]",
      "text/plain": [
       "<Figure size 432x288 with 1 Axes>"
      ]
     },
     "metadata": {
      "needs_background": "light"
     },
     "output_type": "display_data"
    }
   ],
   "source": [
    "acc = history.history['acc']\n",
    "val_acc = history.history['val_acc']\n",
    "loss = history.history['loss']\n",
    "val_loss = history.history['val_loss']\n",
    "epochs = range(1, len(acc) + 1)\n",
    "\n",
    "# Plotting Loss\n",
    "plt.plot(epochs, loss, 'bo', label='Training loss') # \"bo\" is for \"blue dot\"\n",
    "plt.plot(epochs, val_loss, 'b', label='Validation loss') # b is for \"solid blue line\"\n",
    "plt.title('DNN 2 layer Training and validation loss')\n",
    "plt.xlabel('Epochs')\n",
    "plt.ylabel('Loss')\n",
    "plt.legend()\n",
    "plt.show()"
   ]
  },
  {
   "cell_type": "code",
   "execution_count": 15,
   "metadata": {
    "colab": {
     "base_uri": "https://localhost:8080/",
     "height": 295
    },
    "id": "vyzM6-vY8gEp",
    "outputId": "dd93ed78-6c20-4b61-9588-0c1aca3861ae"
   },
   "outputs": [
    {
     "data": {
      "image/png": "[encoded data removed]",
      "text/plain": [
       "<Figure size 432x288 with 1 Axes>"
      ]
     },
     "metadata": {
      "needs_background": "light"
     },
     "output_type": "display_data"
    }
   ],
   "source": [
    "plt.clf()   # clear figure\n",
    "acc_values = history_dict['acc']\n",
    "val_acc_values = history_dict['val_acc']\n",
    "# Plotting Accuracy\n",
    "plt.plot(epochs, acc, 'bo', label='Training acc')\n",
    "plt.plot(epochs, val_acc, 'b', label='Validation acc')\n",
    "plt.title('DNN 2 layer Training and validation accuracy')\n",
    "plt.xlabel('Epochs')\n",
    "plt.ylabel('Loss')\n",
    "plt.legend()\n",
    "plt.show()"
   ]
  },
  {
   "cell_type": "code",
   "execution_count": 16,
   "metadata": {
    "colab": {
     "base_uri": "https://localhost:8080/"
    },
    "id": "wJAqdeeH8rs0",
    "outputId": "a01cd555-540d-4a87-afd7-ae5eb2248cf6"
   },
   "outputs": [
    {
     "name": "stdout",
     "output_type": "stream",
     "text": [
      "Model: \"sequential_1\"\n",
      "_________________________________________________________________\n",
      " Layer (type)                Output Shape              Param #   \n",
      "=================================================================\n",
      " dense_3 (Dense)             (None, 32)                160032    \n",
      "                                                                 \n",
      " dense_4 (Dense)             (None, 32)                1056      \n",
      "                                                                 \n",
      " dense_5 (Dense)             (None, 32)                1056      \n",
      "                                                                 \n",
      " dense_6 (Dense)             (None, 1)                 33        \n",
      "                                                                 \n",
      "=================================================================\n",
      "Total params: 162,177\n",
      "Trainable params: 162,177\n",
      "Non-trainable params: 0\n",
      "_________________________________________________________________\n",
      "None\n",
      "782/782 [==============================] - 1s 760us/step\n"
     ]
    },
    {
     "data": {
      "text/plain": [
       "0.5"
      ]
     },
     "execution_count": 16,
     "metadata": {},
     "output_type": "execute_result"
    }
   ],
   "source": [
    "print(model2.summary())\n",
    "# Predictions\n",
    "pred = model2.predict(x_test)\n",
    "classes_x=np.argmax(pred,axis=-1)\n",
    "accuracy_score(y_test,classes_x)"
   ]
  }
 ],
 "metadata": {
  "colab": {
   "provenance": []
  },
  "kernelspec": {
   "display_name": "Python 3 (ipykernel)",
   "language": "python",
   "name": "python3"
  },
  "language_info": {
   "codemirror_mode": {
    "name": "ipython",
    "version": 3
   },
   "file_extension": ".py",
   "mimetype": "text/x-python",
   "name": "python",
   "nbconvert_exporter": "python",
   "pygments_lexer": "ipython3",
   "version": "3.9.13"
  }
 },
 "nbformat": 4,
 "nbformat_minor": 1
}
